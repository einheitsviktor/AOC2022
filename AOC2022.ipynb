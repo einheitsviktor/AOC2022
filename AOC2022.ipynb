{
 "cells": [
  {
   "cell_type": "markdown",
   "id": "c0d9e710",
   "metadata": {},
   "source": [
    "# Advent of Code 2022\n",
    "\n",
    "#### Preparation"
   ]
  },
  {
   "cell_type": "code",
   "execution_count": 1,
   "id": "ad5f8af1",
   "metadata": {},
   "outputs": [],
   "source": [
    "#TODO"
   ]
  },
  {
   "cell_type": "markdown",
   "id": "47251c74",
   "metadata": {},
   "source": [
    "## Day 1: Calorie Counting"
   ]
  },
  {
   "cell_type": "code",
   "execution_count": 20,
   "id": "0392584e",
   "metadata": {},
   "outputs": [
    {
     "name": "stdout",
     "output_type": "stream",
     "text": [
      "FIRST:  70296\n",
      "SECOND: 205381\n"
     ]
    }
   ],
   "source": [
    "with open('01/input.txt', 'r') as file:    \n",
    "    lines = [line.strip() for line in file.readlines()]\n",
    "    lines.append('')\n",
    "    \n",
    "elf, elfes = 0, []\n",
    "for line in lines:\n",
    "    if line == '':\n",
    "        elfes.append(elf)\n",
    "        elf = 0\n",
    "    else:\n",
    "        elf += int(line)\n",
    "            \n",
    "elfes.sort(reverse=True)\n",
    "\n",
    "print(f'FIRST:  {elfes[0]}')\n",
    "print(f'SECOND: {sum(elfes[:3])}')"
   ]
  },
  {
   "cell_type": "markdown",
   "id": "4fd612ee",
   "metadata": {},
   "source": [
    "## Day 2: Rock Paper Scissors"
   ]
  },
  {
   "cell_type": "code",
   "execution_count": 22,
   "id": "01202c93",
   "metadata": {},
   "outputs": [
    {
     "name": "stdout",
     "output_type": "stream",
     "text": [
      "FIRST:  13484\n",
      "SECOND: 13433\n"
     ]
    }
   ],
   "source": [
    "# Handmade permutations, manageable effort\n",
    "D1 = {\n",
    "    'A X': 4, # Draw\n",
    "    'A Y': 8, # Win\n",
    "    'A Z': 3, # Lose\n",
    "\n",
    "    'B X': 1, # Lose\n",
    "    'B Y': 5, # Draw\n",
    "    'B Z': 9, # Win\n",
    "\n",
    "    'C X': 7, # Win\n",
    "    'C Y': 2, # Lose\n",
    "    'C Z': 6, # Draw\n",
    "}\n",
    "\n",
    "D2 = {\n",
    "    'A X': 3, # Lose\n",
    "    'A Y': 4, # Draw\n",
    "    'A Z': 8, # Win\n",
    "\n",
    "    'B X': 1, # Lose\n",
    "    'B Y': 5, # Draw\n",
    "    'B Z': 9, # Win\n",
    "\n",
    "    'C X': 2, # Lose\n",
    "    'C Y': 6, # Draw\n",
    "    'C Z': 7, # Win\n",
    "}\n",
    "\n",
    "with open('02/input.txt', 'r') as file:\n",
    "    ret1, ret2 = 0, 0\n",
    "    for line in file.readlines():\n",
    "        line_stripped = line.strip()\n",
    "        ret1 += D1[line_stripped]\n",
    "        ret2 += D2[line_stripped]\n",
    "        \n",
    "print(f'FIRST:  {ret1}')\n",
    "print(f'SECOND: {ret2}')"
   ]
  },
  {
   "cell_type": "markdown",
   "id": "5045ceaa",
   "metadata": {},
   "source": [
    "## Day 3: Rucksack Reorganization"
   ]
  },
  {
   "cell_type": "code",
   "execution_count": 30,
   "id": "b5f49733",
   "metadata": {},
   "outputs": [
    {
     "name": "stdout",
     "output_type": "stream",
     "text": [
      "FIRST:  7746\n",
      "SECOND: 2604\n"
     ]
    }
   ],
   "source": [
    "with open('03/input.txt', 'r') as file:\n",
    "    lines = [line.strip() for line in file.readlines()]\n",
    "    \n",
    "# Primera estrella\n",
    "ret1 = 0\n",
    "for line in lines:\n",
    "    left_set = set(line[:len(line) // 2])\n",
    "    right_set = set(line[len(line) // 2:])\n",
    "    # Get intersection\n",
    "    ch = (left_set & right_set).pop()\n",
    "    ret1 += ord(ch) - 96 if ch.islower() else ord(ch) - 38\n",
    "    \n",
    "# Segunda estrella\n",
    "i, ret2 = 0, 0\n",
    "while i < len(lines):\n",
    "    set_a, set_b, set_c = [set(s) for s in lines[i:i+3]]\n",
    "    # Only one element in intersection, therefore .pop() will suffice\n",
    "    ch = (set_a & set_b & set_c).pop()\n",
    "    ret2 += ord(ch) - 96 if ch.islower() else ord(ch) - 38\n",
    "    i += 3\n",
    "\n",
    "print(f'FIRST:  {ret1}')\n",
    "print(f'SECOND: {ret2}')"
   ]
  },
  {
   "cell_type": "markdown",
   "id": "7d670428",
   "metadata": {},
   "source": [
    " ## Day 4: Camp Cleanup"
   ]
  },
  {
   "cell_type": "code",
   "execution_count": 32,
   "id": "5c74cdaa",
   "metadata": {},
   "outputs": [
    {
     "name": "stdout",
     "output_type": "stream",
     "text": [
      "FIRST:  424\n",
      "SECOND: 804\n"
     ]
    }
   ],
   "source": [
    "with open('04/input.txt', 'r') as file:\n",
    "    ret1, ret2 = 0, 0\n",
    "    for line in file.readlines():\n",
    "        left, right = line.strip().split(',')\n",
    "        a, b = left.split('-')\n",
    "        c, d = right.split('-')\n",
    "        a, b, c, d = [int(i) for i in [a, b, c, d]]\n",
    "        # First\n",
    "        if (c >= a and d <= b) or (a >= c and b <= d):\n",
    "            ret1 += 1\n",
    "        # Second\n",
    "        if (a <= c <= b) or (c <= a <= d):\n",
    "            ret2 += 1\n",
    "\n",
    "print(f'FIRST:  {ret1}')\n",
    "print(f'SECOND: {ret2}')"
   ]
  },
  {
   "cell_type": "markdown",
   "id": "2f64f78c",
   "metadata": {},
   "source": [
    "## Day 5: Supply Stacks"
   ]
  },
  {
   "cell_type": "code",
   "execution_count": 5,
   "id": "ca498059",
   "metadata": {},
   "outputs": [
    {
     "name": "stdout",
     "output_type": "stream",
     "text": [
      "FIRST:  MQTPGLLDN\n",
      "SECOND: LVZPSTTCZ\n"
     ]
    }
   ],
   "source": [
    "from copy import deepcopy\n",
    "\n",
    "with open('05/input.txt', 'r') as file:\n",
    "    st, instructions = file.read().split('\\n\\n')\n",
    "    st, instructions = st.split('\\n'), instructions.split('\\n')\n",
    "    \n",
    "# Initialize empty stacks with number of ints in the last line of stack declarations (st)\n",
    "stacksA = [[] for _ in range(len(st[-1].split()))]\n",
    "\n",
    "# Traverse rows and fill stacks\n",
    "for j, c in enumerate(st[-1]):\n",
    "    if c.isnumeric():\n",
    "        for i in range(len(st)-2, -1, -1):\n",
    "            if st[i][j].isalpha():\n",
    "                stacksA[int(c)-1].append(st[i][j])\n",
    "\n",
    "stacksB = deepcopy(stacksA)\n",
    "\n",
    "for line in instructions[:-1]:\n",
    "    _, amount, _, frm, _, to = line.split()\n",
    "    amount, frm, to = [int(i) for i in [amount, frm, to]]\n",
    "    \n",
    "    # First\n",
    "    for _ in range(amount):\n",
    "        stacksA[to-1].append(stacksA[frm-1].pop())\n",
    "    # Second\n",
    "    cut = stacksB[frm-1][-amount:]\n",
    "    del stacksB[frm-1][-amount:]\n",
    "    for ch in cut:\n",
    "        stacksB[to-1].append(ch)\n",
    "\n",
    "FIRST  = ''.join([stack[-1] for stack in stacksA])\n",
    "SECOND = ''.join([stack[-1] for stack in stacksB])\n",
    "\n",
    "print(f'FIRST:  {FIRST}')\n",
    "print(f'SECOND: {SECOND}')"
   ]
  },
  {
   "cell_type": "markdown",
   "id": "72458ad5",
   "metadata": {},
   "source": [
    "## Day 6: Tuning Trouble"
   ]
  },
  {
   "cell_type": "code",
   "execution_count": 12,
   "id": "1b35aff3",
   "metadata": {},
   "outputs": [
    {
     "name": "stdout",
     "output_type": "stream",
     "text": [
      "FIRST:  1623\n",
      "SECOND: 3774\n"
     ]
    }
   ],
   "source": [
    "with open('06/input.txt', 'r') as file:\n",
    "    line = file.readline()\n",
    "\n",
    "FIRST = 4\n",
    "SECOND = 14\n",
    "\n",
    "for i in range(len(line) - FIRST):\n",
    "    if len(set(line[i:i+FIRST])) == FIRST:\n",
    "        print(f'FIRST:  {i + FIRST}')\n",
    "        break\n",
    "\n",
    "for i in range(len(line) - SECOND):\n",
    "    if len(set(line[i:i+SECOND])) == SECOND:\n",
    "        print(f'SECOND: {i + SECOND}')\n",
    "        break"
   ]
  },
  {
   "cell_type": "code",
   "execution_count": null,
   "id": "b8ca2913",
   "metadata": {},
   "outputs": [],
   "source": []
  }
 ],
 "metadata": {
  "kernelspec": {
   "display_name": "Python 3 (ipykernel)",
   "language": "python",
   "name": "python3"
  },
  "language_info": {
   "codemirror_mode": {
    "name": "ipython",
    "version": 3
   },
   "file_extension": ".py",
   "mimetype": "text/x-python",
   "name": "python",
   "nbconvert_exporter": "python",
   "pygments_lexer": "ipython3",
   "version": "3.10.8"
  }
 },
 "nbformat": 4,
 "nbformat_minor": 5
}
