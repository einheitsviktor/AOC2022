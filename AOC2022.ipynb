{
 "cells": [
  {
   "cell_type": "markdown",
   "id": "c0d9e710",
   "metadata": {},
   "source": [
    "# Advent of Code 2022\n",
    "\n",
    "#### Preparation"
   ]
  },
  {
   "cell_type": "markdown",
   "id": "47251c74",
   "metadata": {},
   "source": [
    "## Day 1: Calorie Counting"
   ]
  },
  {
   "cell_type": "code",
   "execution_count": 20,
   "id": "0392584e",
   "metadata": {},
   "outputs": [
    {
     "name": "stdout",
     "output_type": "stream",
     "text": [
      "FIRST:  70296\n",
      "SECOND: 205381\n"
     ]
    }
   ],
   "source": [
    "with open('01/input.txt', 'r') as file:    \n",
    "    lines = [line.strip() for line in file.readlines()]\n",
    "    lines.append('')\n",
    "    \n",
    "elf, elfes = 0, []\n",
    "for line in lines:\n",
    "    if line == '':\n",
    "        elfes.append(elf)\n",
    "        elf = 0\n",
    "    else:\n",
    "        elf += int(line)\n",
    "            \n",
    "elfes.sort(reverse=True)\n",
    "\n",
    "print(f'FIRST:  {elfes[0]}')\n",
    "print(f'SECOND: {sum(elfes[:3])}')"
   ]
  },
  {
   "cell_type": "markdown",
   "id": "4fd612ee",
   "metadata": {},
   "source": [
    "## Day 2: Rock Paper Scissors"
   ]
  },
  {
   "cell_type": "code",
   "execution_count": 22,
   "id": "01202c93",
   "metadata": {},
   "outputs": [
    {
     "name": "stdout",
     "output_type": "stream",
     "text": [
      "FIRST:  13484\n",
      "SECOND: 13433\n"
     ]
    }
   ],
   "source": [
    "# Handmade permutations, manageable effort\n",
    "D1 = {\n",
    "    'A X': 4, # Draw\n",
    "    'A Y': 8, # Win\n",
    "    'A Z': 3, # Lose\n",
    "\n",
    "    'B X': 1, # Lose\n",
    "    'B Y': 5, # Draw\n",
    "    'B Z': 9, # Win\n",
    "\n",
    "    'C X': 7, # Win\n",
    "    'C Y': 2, # Lose\n",
    "    'C Z': 6, # Draw\n",
    "}\n",
    "\n",
    "D2 = {\n",
    "    'A X': 3, # Lose\n",
    "    'A Y': 4, # Draw\n",
    "    'A Z': 8, # Win\n",
    "\n",
    "    'B X': 1, # Lose\n",
    "    'B Y': 5, # Draw\n",
    "    'B Z': 9, # Win\n",
    "\n",
    "    'C X': 2, # Lose\n",
    "    'C Y': 6, # Draw\n",
    "    'C Z': 7, # Win\n",
    "}\n",
    "\n",
    "with open('02/input.txt', 'r') as file:\n",
    "    ret1, ret2 = 0, 0\n",
    "    for line in file.readlines():\n",
    "        line_stripped = line.strip()\n",
    "        ret1 += D1[line_stripped]\n",
    "        ret2 += D2[line_stripped]\n",
    "        \n",
    "print(f'FIRST:  {ret1}')\n",
    "print(f'SECOND: {ret2}')"
   ]
  },
  {
   "cell_type": "markdown",
   "id": "5045ceaa",
   "metadata": {},
   "source": [
    "## Day 3: Rucksack Reorganization"
   ]
  },
  {
   "cell_type": "code",
   "execution_count": 30,
   "id": "b5f49733",
   "metadata": {},
   "outputs": [
    {
     "name": "stdout",
     "output_type": "stream",
     "text": [
      "FIRST:  7746\n",
      "SECOND: 2604\n"
     ]
    }
   ],
   "source": [
    "with open('03/input.txt', 'r') as file:\n",
    "    lines = [line.strip() for line in file.readlines()]\n",
    "    \n",
    "# Primera estrella\n",
    "ret1 = 0\n",
    "for line in lines:\n",
    "    left_set = set(line[:len(line) // 2])\n",
    "    right_set = set(line[len(line) // 2:])\n",
    "    # Get intersection\n",
    "    ch = (left_set & right_set).pop()\n",
    "    ret1 += ord(ch) - 96 if ch.islower() else ord(ch) - 38\n",
    "    \n",
    "# Segunda estrella\n",
    "i, ret2 = 0, 0\n",
    "while i < len(lines):\n",
    "    set_a, set_b, set_c = [set(s) for s in lines[i:i+3]]\n",
    "    # Only one element in intersection, therefore .pop() will suffice\n",
    "    ch = (set_a & set_b & set_c).pop()\n",
    "    ret2 += ord(ch) - 96 if ch.islower() else ord(ch) - 38\n",
    "    i += 3\n",
    "\n",
    "print(f'FIRST:  {ret1}')\n",
    "print(f'SECOND: {ret2}')"
   ]
  },
  {
   "cell_type": "markdown",
   "id": "7d670428",
   "metadata": {},
   "source": [
    " ## Day 4: Camp Cleanup"
   ]
  },
  {
   "cell_type": "code",
   "execution_count": 32,
   "id": "5c74cdaa",
   "metadata": {},
   "outputs": [
    {
     "name": "stdout",
     "output_type": "stream",
     "text": [
      "FIRST:  424\n",
      "SECOND: 804\n"
     ]
    }
   ],
   "source": [
    "with open('04/input.txt', 'r') as file:\n",
    "    ret1, ret2 = 0, 0\n",
    "    for line in file.readlines():\n",
    "        left, right = line.strip().split(',')\n",
    "        a, b = left.split('-')\n",
    "        c, d = right.split('-')\n",
    "        a, b, c, d = [int(i) for i in [a, b, c, d]]\n",
    "        # First\n",
    "        if (c >= a and d <= b) or (a >= c and b <= d):\n",
    "            ret1 += 1\n",
    "        # Second\n",
    "        if (a <= c <= b) or (c <= a <= d):\n",
    "            ret2 += 1\n",
    "\n",
    "print(f'FIRST:  {ret1}')\n",
    "print(f'SECOND: {ret2}')"
   ]
  },
  {
   "cell_type": "markdown",
   "id": "2f64f78c",
   "metadata": {},
   "source": [
    "## Day 5: Supply Stacks"
   ]
  },
  {
   "cell_type": "code",
   "execution_count": 5,
   "id": "ca498059",
   "metadata": {},
   "outputs": [
    {
     "name": "stdout",
     "output_type": "stream",
     "text": [
      "FIRST:  MQTPGLLDN\n",
      "SECOND: LVZPSTTCZ\n"
     ]
    }
   ],
   "source": [
    "from copy import deepcopy\n",
    "\n",
    "with open('05/input.txt', 'r') as file:\n",
    "    st, instructions = file.read().split('\\n\\n')\n",
    "    st, instructions = st.split('\\n'), instructions.split('\\n')\n",
    "    \n",
    "# Initialize empty stacks with number of ints in the last line of stack declarations (st)\n",
    "stacksA = [[] for _ in range(len(st[-1].split()))]\n",
    "\n",
    "# Traverse rows and fill stacks\n",
    "for j, c in enumerate(st[-1]):\n",
    "    if c.isnumeric():\n",
    "        for i in range(len(st)-2, -1, -1):\n",
    "            if st[i][j].isalpha():\n",
    "                stacksA[int(c)-1].append(st[i][j])\n",
    "\n",
    "stacksB = deepcopy(stacksA)\n",
    "\n",
    "for line in instructions[:-1]:\n",
    "    _, amount, _, frm, _, to = line.split()\n",
    "    amount, frm, to = [int(i) for i in [amount, frm, to]]\n",
    "    \n",
    "    # First\n",
    "    for _ in range(amount):\n",
    "        stacksA[to-1].append(stacksA[frm-1].pop())\n",
    "    # Second\n",
    "    cut = stacksB[frm-1][-amount:]\n",
    "    del stacksB[frm-1][-amount:]\n",
    "    for ch in cut:\n",
    "        stacksB[to-1].append(ch)\n",
    "\n",
    "FIRST  = ''.join([stack[-1] for stack in stacksA])\n",
    "SECOND = ''.join([stack[-1] for stack in stacksB])\n",
    "\n",
    "print(f'FIRST:  {FIRST}')\n",
    "print(f'SECOND: {SECOND}')"
   ]
  },
  {
   "cell_type": "markdown",
   "id": "72458ad5",
   "metadata": {},
   "source": [
    "## Day 6: Tuning Trouble"
   ]
  },
  {
   "cell_type": "code",
   "execution_count": 12,
   "id": "1b35aff3",
   "metadata": {},
   "outputs": [
    {
     "name": "stdout",
     "output_type": "stream",
     "text": [
      "FIRST:  1623\n",
      "SECOND: 3774\n"
     ]
    }
   ],
   "source": [
    "with open('06/input.txt', 'r') as file:\n",
    "    line = file.readline()\n",
    "\n",
    "FIRST = 4\n",
    "SECOND = 14\n",
    "\n",
    "for i in range(len(line) - FIRST):\n",
    "    if len(set(line[i:i+FIRST])) == FIRST:\n",
    "        print(f'FIRST:  {i + FIRST}')\n",
    "        break\n",
    "\n",
    "for i in range(len(line) - SECOND):\n",
    "    if len(set(line[i:i+SECOND])) == SECOND:\n",
    "        print(f'SECOND: {i + SECOND}')\n",
    "        break"
   ]
  },
  {
   "cell_type": "markdown",
   "id": "46f39f3a",
   "metadata": {},
   "source": [
    "## Day 7: No Space Left On Device"
   ]
  },
  {
   "cell_type": "code",
   "execution_count": 6,
   "id": "70aa1451",
   "metadata": {},
   "outputs": [
    {
     "name": "stdout",
     "output_type": "stream",
     "text": [
      "\n",
      "FIRST:  1642503\n",
      "SECOND: 6999588\n"
     ]
    }
   ],
   "source": [
    "class Node():\n",
    "    def __init__(self, name):\n",
    "        self.name = name\n",
    "        self.parent = None\n",
    "        self.files = {}\n",
    "        self.children = []\n",
    "        self.node_sum = 0\n",
    "        self.first_sum = 0\n",
    "        self.dirs = []\n",
    "\n",
    "    def cd_dir(self, name):\n",
    "        if name == '..':\n",
    "            return self.parent\n",
    "        for child in self.children:\n",
    "            if name == child.name:\n",
    "                return child\n",
    "        return None\n",
    "\n",
    "    def add_dir(self, name):\n",
    "        new_child = Node(name)\n",
    "        new_child.parent = self\n",
    "        self.children.append(new_child)\n",
    "\n",
    "    def add_file(self, name, size):\n",
    "        self.files[name] = int(size)\n",
    "        while self is not None:\n",
    "            self.node_sum += int(size)\n",
    "            self = self.parent\n",
    "\n",
    "    def traverse(self, node):\n",
    "        for n in node.children:\n",
    "            if n:\n",
    "                self.traverse(n)\n",
    "                self.dirs.append(n.node_sum)\n",
    "                if n.node_sum <= 100000:\n",
    "                    self.first_sum += n.node_sum\n",
    "\n",
    "    def printall(self):\n",
    "        self.traverse(self)\n",
    "        self.dirs.append(self.node_sum)\n",
    "        self.dirs.sort()\n",
    "        total_disk_space  = 70000000\n",
    "        target_free_space = 30000000\n",
    "        print(f'\\nFIRST:  {self.first_sum}')\n",
    "        free_space = total_disk_space - self.dirs[-1]\n",
    "        for dir in self.dirs:\n",
    "            if (free_space + dir) >= target_free_space:\n",
    "                print(f'SECOND: {dir}')\n",
    "                break\n",
    "\n",
    "\n",
    "with open('07/input.txt', 'r') as file:\n",
    "    lines = [line.strip() for line in file.readlines()]\n",
    "\n",
    "_, _, path = lines[0].split()\n",
    "root = Node(path)\n",
    "cwd = root\n",
    "\n",
    "for line in lines[1:]:\n",
    "    l = line.split()\n",
    "    if len(l) == 3:\n",
    "        cd_dir = cwd.cd_dir(l[-1])\n",
    "        if cd_dir is not None:\n",
    "            cwd = cd_dir\n",
    "        else:\n",
    "            raise Exception('cd_dir() error!')\n",
    "    else:\n",
    "        if l[-1] == 'ls':\n",
    "            continue\n",
    "        if l[0] == 'dir':\n",
    "            cwd.add_dir(l[-1])\n",
    "        else:\n",
    "            cwd.add_file(l[-1], l[0])\n",
    "\n",
    "root.printall()"
   ]
  },
  {
   "cell_type": "markdown",
   "id": "07047517",
   "metadata": {},
   "source": [
    "## Day 8: Treetop Tree House"
   ]
  },
  {
   "cell_type": "code",
   "execution_count": 1,
   "id": "cf04ac11",
   "metadata": {},
   "outputs": [
    {
     "name": "stdout",
     "output_type": "stream",
     "text": [
      "FIRST:  1708\n",
      "SECOND: 504000\n"
     ]
    }
   ],
   "source": [
    "with open('08/input.txt', 'r') as file:\n",
    "    lines = tuple(tuple(int(j) for j in line.strip()) for line in file.readlines())\n",
    "\n",
    "neighbors = (\n",
    "    (-1, 0), # NORTH\n",
    "    (0, 1),  # EAST\n",
    "    (1, 0),  # SOUTH\n",
    "    (0, -1), # WEST\n",
    ")\n",
    "\n",
    "N = len(lines[0])\n",
    "\n",
    "def in_bounds(i: int, j: int) -> bool:\n",
    "    return (0 <= i < N) and (0 <= j < N)\n",
    "\n",
    "def radiate(i: int, j: int, di: int, dj: int, value: int) -> tuple[bool, int]:\n",
    "    # Increase/decrease i/j by the delta to radiate in all 4 cardinal directions\n",
    "    i, j = i + di, j + dj\n",
    "    count = 0\n",
    "    has_foresight = True\n",
    "    while in_bounds(i, j):\n",
    "        count += 1\n",
    "        if lines[i][j] >= value:\n",
    "            has_foresight =  False\n",
    "            break\n",
    "        i, j = i + di, j + dj\n",
    "    return (has_foresight, count)\n",
    "\n",
    "count1, count2 = 0, 0\n",
    "\n",
    "# Skip outer rows\n",
    "for i in range(1, len(lines) - 1):\n",
    "    # Skip outer columns\n",
    "    for j in range(1, len(lines[i]) - 1):\n",
    "        flag = False\n",
    "        interim = 1\n",
    "        for n in neighbors:\n",
    "            res =  radiate(i, j, n[0], n[1], lines[i][j])\n",
    "            interim *= res[1]\n",
    "            if res[0] and not flag:\n",
    "                count1 +=1\n",
    "                flag = True\n",
    "        count2 = max(interim, count2)\n",
    "\n",
    "print(f'FIRST:  {count1 + 2 * N + 2 * N - 4}')\n",
    "print(f'SECOND: {count2}')"
   ]
  },
  {
   "cell_type": "markdown",
   "id": "3439b087",
   "metadata": {},
   "source": [
    "## Day 9: Rope Bridge"
   ]
  },
  {
   "cell_type": "code",
   "execution_count": 3,
   "id": "f003ca1c",
   "metadata": {},
   "outputs": [
    {
     "name": "stdout",
     "output_type": "stream",
     "text": [
      "FIRST:  6642\n"
     ]
    }
   ],
   "source": [
    "from dataclasses import dataclass\n",
    "import sys\n",
    "import math\n",
    "\n",
    "\n",
    "path = []\n",
    "tail = tuple((0, 0))\n",
    "intersections = set((tail))\n",
    "\n",
    "@dataclass\n",
    "class Coordinates:\n",
    "    i: int\n",
    "    j: int\n",
    "\n",
    "current = Coordinates(0, 0)\n",
    "\n",
    "def extend_path(direction: str, n: int) -> None:\n",
    "    match direction:\n",
    "        case 'U': di, dj = -1, 0\n",
    "        case 'R': di, dj = 0, 1\n",
    "        case 'D': di, dj = 1, 0\n",
    "        case  _ : di, dj = 0, -1\n",
    "\n",
    "    for _ in range(n):\n",
    "        current.i += di\n",
    "        current.j += dj\n",
    "        path.append(tuple((current.i, current.j)))\n",
    "\n",
    "\n",
    "def eucl(tail: tuple, head: tuple) -> int:\n",
    "    return int(math.sqrt((tail[0] - head[0])**2 + (tail[1] - head[1])**2))\n",
    "\n",
    "\n",
    "with open('09/input.txt', 'r') as file:\n",
    "    for line in file.readlines():\n",
    "        direction, n = line.split()\n",
    "        extend_path(direction, int(n))\n",
    "\n",
    "\n",
    "S = set()\n",
    "count = 0\n",
    "for i in range(len(path) - 1):\n",
    "    head = path[i + 1]\n",
    "    count += 1\n",
    "    if eucl(tail, head) > 1:\n",
    "        tail = path[i]\n",
    "        # Own hash function\n",
    "        intersections.add(tail[0] * 0xAFFE + tail[1])\n",
    "\n",
    "\n",
    "print(f'FIRST:  {len(intersections)}')"
   ]
  }
 ],
 "metadata": {
  "kernelspec": {
   "display_name": "Python 3 (ipykernel)",
   "language": "python",
   "name": "python3"
  },
  "language_info": {
   "codemirror_mode": {
    "name": "ipython",
    "version": 3
   },
   "file_extension": ".py",
   "mimetype": "text/x-python",
   "name": "python",
   "nbconvert_exporter": "python",
   "pygments_lexer": "ipython3",
   "version": "3.10.8"
  }
 },
 "nbformat": 4,
 "nbformat_minor": 5
}
